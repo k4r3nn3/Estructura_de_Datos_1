{
  "nbformat": 4,
  "nbformat_minor": 0,
  "metadata": {
    "colab": {
      "provenance": []
    },
    "kernelspec": {
      "name": "python3",
      "display_name": "Python 3"
    },
    "language_info": {
      "name": "python"
    }
  },
  "cells": [
    {
      "cell_type": "code",
      "execution_count": null,
      "metadata": {
        "id": "YWfDDHvZCS5b"
      },
      "outputs": [],
      "source": []
    },
    {
      "cell_type": "markdown",
      "source": [
        "Modelos de Representación – Estático vs Dinámico"
      ],
      "metadata": {
        "id": "aoOIIwxdCWrZ"
      }
    },
    {
      "cell_type": "markdown",
      "source": [
        "1. Modelo Estático: Automóvil con estructura fija (diccionario)\n",
        "En un modelo estático, los datos se organizan en estructuras que no cambian de forma después de su creación. Usamos un diccionario como representación simple y fija."
      ],
      "metadata": {
        "id": "SERgtl04CZ57"
      }
    },
    {
      "cell_type": "code",
      "source": [
        "# Modelo Estático: Automóvil como estructura fija (ADT con diccionario)\n",
        "class AutomovilEstatico:\n",
        "    def __init__(self, marca, modelo, color, anio):\n",
        "        # Estructura estática: datos definidos al crear el objeto\n",
        "        self._datos = {\n",
        "            \"marca\": marca,\n",
        "            \"modelo\": modelo,\n",
        "            \"color\": color,\n",
        "            \"anio\": anio\n",
        "        }\n",
        "\n",
        "    # Getter\n",
        "    def get(self, clave):\n",
        "        return self._datos.get(clave, None)\n",
        "\n",
        "    # Setter\n",
        "    def set(self, clave, valor):\n",
        "        if clave in self._datos:\n",
        "            self._datos[clave] = valor\n",
        "        else:\n",
        "            print(f\"Error: '{clave}' no es un atributo válido.\")\n",
        "\n",
        "    # Mostrar información\n",
        "    def mostrar(self):\n",
        "        print(\"Automóvil (Estático):\")\n",
        "        for k, v in self._datos.items():\n",
        "            print(f\"  {k.capitalize()}: {v}\")"
      ],
      "metadata": {
        "id": "rSQwrqyTCa4_"
      },
      "execution_count": 1,
      "outputs": []
    },
    {
      "cell_type": "code",
      "source": [],
      "metadata": {
        "id": "OdsgFL8CChpt"
      },
      "execution_count": null,
      "outputs": []
    },
    {
      "cell_type": "code",
      "source": [],
      "metadata": {
        "id": "UEMG0QjAChm4"
      },
      "execution_count": null,
      "outputs": []
    },
    {
      "cell_type": "markdown",
      "source": [
        "2. Modelo Dinámico: Automóvil con atributos dinámicos (clase con expansión)"
      ],
      "metadata": {
        "id": "-yPvjId-Cicx"
      }
    },
    {
      "cell_type": "code",
      "source": [
        "# Modelo Dinámico: Automóvil con atributos modificables y expansibles\n",
        "class AutomovilDinamico:\n",
        "    def __init__(self, marca, modelo, color, anio):\n",
        "        self.marca = marca\n",
        "        self.modelo = modelo\n",
        "        self.color = color\n",
        "        self.anio = anio\n",
        "        # Atributo dinámico: puede crecer con nuevos campos\n",
        "        self._atributos_extra = {}\n",
        "\n",
        "    # Getter\n",
        "    def get(self, nombre):\n",
        "        if hasattr(self, nombre):\n",
        "            return getattr(self, nombre)\n",
        "        elif nombre in self._atributos_extra:\n",
        "            return self._atributos_extra[nombre]\n",
        "        else:\n",
        "            return f\"Atributo '{nombre}' no encontrado.\"\n",
        "\n",
        "    # Setter\n",
        "    def set(self, nombre, valor):\n",
        "        if nombre in [\"marca\", \"modelo\", \"color\", \"anio\"]:\n",
        "            setattr(self, nombre, valor)\n",
        "        else:\n",
        "            # Permitir atributos adicionales (dinamismo)\n",
        "            self._atributos_extra[nombre] = valor\n",
        "            print(f\"Atributo dinámico '{nombre}' agregado.\")\n",
        "\n",
        "    # Mostrar todos los datos\n",
        "    def mostrar(self):\n",
        "        print(\"Automóvil (Dinámico):\")\n",
        "        print(f\"  Marca: {self.marca}\")\n",
        "        print(f\"  Modelo: {self.modelo}\")\n",
        "        print(f\"  Color: {self.color}\")\n",
        "        print(f\"  Año: {self.anio}\")\n",
        "        if self._atributos_extra:\n",
        "            for k, v in self._atributos_extra.items():\n",
        "                print(f\"  {k}: {v}\")"
      ],
      "metadata": {
        "id": "a5CJnVIVCki9"
      },
      "execution_count": null,
      "outputs": []
    }
  ]
}